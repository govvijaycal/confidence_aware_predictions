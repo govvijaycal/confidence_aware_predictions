{
 "cells": [
  {
   "cell_type": "markdown",
   "id": "acoustic-stewart",
   "metadata": {},
   "source": [
    "# Prediction Evaluation and Visualization (NuScenes)\n",
    "* The purpose of this notebook is to aid in evaluating the trained models on the NuScenes dataset.\n",
    "* It runs the model to generate predictions, saving as a pickle file.\n",
    "* It then generates a Pandas dataframe to aggregate metrics and select some interesting outlier/edge cases for visualization."
   ]
  },
  {
   "cell_type": "markdown",
   "id": "french-picture",
   "metadata": {},
   "source": [
    "## Adjustable Parameters"
   ]
  },
  {
   "cell_type": "code",
   "execution_count": null,
   "id": "vulnerable-migration",
   "metadata": {},
   "outputs": [],
   "source": [
    "checkpoint_file  = 'log/nuscenes_multipath_lstm/00030_epochs.h5' # location of the checkpoint relative to the repo.\n",
    "model_type       = 'multipath'                                   # 'multipath' or 'regression'\n",
    "nuscenes_datadir = '/media/data/nuscenes-data/'                  # global path to the nuscenes dataroot\n",
    "\n",
    "make_predictions       = True  # make predictions on the nuscenes dataset and save results\n",
    "viz_interesting_cases  = True  # identify interesting cases using a Pandas dataframe and visualize them."
   ]
  },
  {
   "cell_type": "markdown",
   "id": "conceptual-behavior",
   "metadata": {},
   "source": [
    "## Code and Model Setup"
   ]
  },
  {
   "cell_type": "code",
   "execution_count": null,
   "id": "encouraging-dominican",
   "metadata": {},
   "outputs": [],
   "source": [
    "import os\n",
    "import sys\n",
    "import glob\n",
    "from tqdm import tqdm\n",
    "import numpy as np\n",
    "import tensorflow as tf\n",
    "import pandas as pd\n",
    "import matplotlib.pyplot as plt\n",
    "import cv2\n",
    "import pickle\n",
    "\n",
    "ROOTDIR = os.getcwd().split('scripts')[0]\n",
    "sys.path.append(os.path.join(ROOTDIR, 'scripts'))\n",
    "\n",
    "from models.regression import Regression\n",
    "from models.multipath import MultiPath\n",
    "from datasets.splits import NUSCENES_TRAIN, NUSCENES_VAL\n",
    "from evaluation.gmm_prediction import GMMPrediction\n",
    "from evaluation.pandas_df_utils import eval_prediction_dict\n",
    "from evaluation.nuscenes_pred_visualization import NuscenesPredictionVisualizer"
   ]
  },
  {
   "cell_type": "code",
   "execution_count": null,
   "id": "checked-munich",
   "metadata": {},
   "outputs": [],
   "source": [
    "anchors = np.load(os.path.join(ROOTDIR, 'data/nuscenes_clusters_16.npy'))\n",
    "weights = np.load(os.path.join(ROOTDIR, 'data/nuscenes_clusters_16_weights.npy'))\n",
    "\n",
    "if model_type == 'multipath':\n",
    "    model = MultiPath(num_timesteps=12, num_hist_timesteps=2, anchors=anchors, weights=weights)\n",
    "elif model_type == 'regression':\n",
    "    model = Regression(num_timesteps=12, num_hist_timesteps=2)\n",
    "else:\n",
    "    raise ValueError(\"{} not implemented\".format(dataset_type))\n",
    "    \n",
    "model.load_weights(os.path.join(ROOTDIR, checkpoint_file))\n",
    "\n",
    "model_name = [x for x in checkpoint_file.split('/') if 'nuscenes' in x]\n",
    "if len(model_name) == 1:\n",
    "    model_name = model_name[0]\n",
    "else:\n",
    "    raise ValueError(\"Expected the model name to contain the substring <nuscenes>.  Unable to detect this.\")"
   ]
  },
  {
   "cell_type": "markdown",
   "id": "broken-hybrid",
   "metadata": {},
   "source": [
    "## Make Predictions"
   ]
  },
  {
   "cell_type": "code",
   "execution_count": null,
   "id": "moving-emphasis",
   "metadata": {},
   "outputs": [],
   "source": [
    "if make_predictions:\n",
    "    for dataset_name, dataset in zip(['train', 'val'], [NUSCENES_TRAIN, NUSCENES_VAL]):\n",
    "        predict_dict = model.predict(dataset)\n",
    "        savename = checkpoint_file.replace('.h5', '_{}_preds.pkl'.format(dataset_name))\n",
    "        savename = os.path.join(ROOTDIR, savename)\n",
    "        print('Saving predictions to: {}'.format(savename))\n",
    "        pickle.dump( predict_dict, open(savename, \"wb\") )"
   ]
  },
  {
   "cell_type": "markdown",
   "id": "terminal-appearance",
   "metadata": {},
   "source": [
    "## Determine Interesting Examples"
   ]
  },
  {
   "cell_type": "code",
   "execution_count": null,
   "id": "eastern-oxygen",
   "metadata": {
    "scrolled": false
   },
   "outputs": [],
   "source": [
    "if viz_interesting_cases:\n",
    "    # Assuming that we care about visualizing the val dataset to explore the generalization error.\n",
    "    loadname           = checkpoint_file.replace('.h5', '_val_preds.pkl')\n",
    "    loadname           = os.path.join(ROOTDIR, loadname)\n",
    "    predict_dict       = pickle.load(open(loadname, 'rb'))\n",
    "    model_name         = checkpoint_file.split('/')[-2]\n",
    "    predict_metrics_df = eval_prediction_dict(predict_dict, anchors, model_name)\n",
    "    \n",
    "    print('Aggregate statistics:')\n",
    "    for key in predict_metrics_df:\n",
    "        if '_' in key: # hack to pick only the numeric entries of the dataframe\n",
    "            print(f\"\\t{key} : {predict_metrics_df[key].mean()}\")\n",
    "    \n",
    "    print('Histograms and Means')\n",
    "    colors = ['r', 'g', 'b']\n",
    "    for key in ['traj_LL', 'min_ade', 'min_fde']: # skipping minmax distance.\n",
    "        fig, ((ax1, ax2, ax3)) = plt.subplots(3, 1, sharey=True)    \n",
    "        ax_list = [ax1, ax2, ax3]\n",
    "        for ind_k, k in enumerate([1,3,5]):    \n",
    "            ax = ax_list[ind_k]\n",
    "            ax.hist(predict_metrics_df['%s_%d' % (key, k)], color=colors[ind_k], log=True)\n",
    "            ax.axvline(np.mean(predict_metrics_df['%s_%d' % (key, k)]), lw=3, color='k', ls='--')\n",
    "            ax.set_ylabel('%s_%d' % (key, k))            \n",
    "        fig.tight_layout()   \n",
    "        \n",
    "    for key in ['length', 'curvature']:\n",
    "        # These metrics do not have a _{1,3,5} suffix.  Invariant to number of modes considered.\n",
    "        plt.figure()\n",
    "        ax = plt.gca()\n",
    "        ax.hist(predict_metrics_df[key], color=colors[ind_k], log=True)\n",
    "        ax.axvline(np.mean(predict_metrics_df[key]), lw=3, color='k', ls='--')\n",
    "        ax.set_ylabel(key) "
   ]
  },
  {
   "cell_type": "code",
   "execution_count": null,
   "id": "meaningful-retailer",
   "metadata": {},
   "outputs": [],
   "source": [
    "# Using the histograms, select some reasonable thresholds for outliers.\n",
    "# Tune criteria for choosing interesting cases in this cell.\n",
    "CURV_THRESH = 0.15\n",
    "LL_THRESH   = -450.\n",
    "\n",
    "if viz_interesting_cases:\n",
    "    has_high_curvature = np.abs(predict_metrics_df['curvature']) >= CURV_THRESH\n",
    "    has_low_likelihood = predict_metrics_df['traj_LL_5'] <= LL_THRESH\n",
    "    interesting_cases  = np.logical_or(has_high_curvature, has_low_likelihood)\n",
    "    \n",
    "    print(f\"Number High Curvature Cases: {np.sum(has_high_curvature)}\")\n",
    "    print(f\"Number Low Likelihood Cases: {np.sum(has_low_likelihood)}\")\n",
    "    print(f\"Number Interesting Cases: {np.sum(interesting_cases)}\")"
   ]
  },
  {
   "cell_type": "markdown",
   "id": "global-eating",
   "metadata": {},
   "source": [
    "## Visualize Interesting Examples"
   ]
  },
  {
   "cell_type": "code",
   "execution_count": null,
   "id": "genetic-spell",
   "metadata": {},
   "outputs": [],
   "source": [
    "if viz_interesting_cases:\n",
    "    npv = NuscenesPredictionVisualizer(dataroot=nuscenes_datadir)"
   ]
  },
  {
   "cell_type": "markdown",
   "id": "vulnerable-emergency",
   "metadata": {},
   "source": [
    "### How to interpret the plots:\n",
    "* The left column shows the ground truth as red circles.\n",
    "* The right column shows (by default) the top-3 modes of the GMM with 95\\% covariance ellipses.\n",
    "  - The highest probability mode is in yellow, and the least likely mode is in magenta.\n",
    "  - The probabilities are also printed for these top-3 modes following the figure."
   ]
  },
  {
   "cell_type": "code",
   "execution_count": null,
   "id": "charitable-prior",
   "metadata": {
    "scrolled": false
   },
   "outputs": [],
   "source": [
    "if viz_interesting_cases:\n",
    "    for binary_thresh in ['has_high_curvature', 'has_low_likelihood']:\n",
    "        print(\"-\"*80)\n",
    "        print(f\"Thresh used: {binary_thresh}\")\n",
    "        interesting_cases_df = predict_metrics_df[eval(binary_thresh)]\n",
    "        for index in range( np.sum(eval(binary_thresh)) ):\n",
    "            example = interesting_cases_df.iloc[index]\n",
    "            _, img_gt, img_pred, top_probs = npv.visualize_prediction(predict_dict, example['instance'])    \n",
    "            plt.subplot(121); plt.imshow(img_gt);\n",
    "            plt.subplot(122); plt.imshow(img_pred)\n",
    "            plt.tight_layout()\n",
    "            plt.title(example['instance'])\n",
    "            plt.show()\n",
    "            print(top_probs)\n",
    "            print()\n",
    "        print(\"-\"*80)"
   ]
  }
 ],
 "metadata": {
  "kernelspec": {
   "display_name": "Python 3",
   "language": "python",
   "name": "python3"
  },
  "language_info": {
   "codemirror_mode": {
    "name": "ipython",
    "version": 3
   },
   "file_extension": ".py",
   "mimetype": "text/x-python",
   "name": "python",
   "nbconvert_exporter": "python",
   "pygments_lexer": "ipython3",
   "version": "3.7.9"
  }
 },
 "nbformat": 4,
 "nbformat_minor": 5
}
